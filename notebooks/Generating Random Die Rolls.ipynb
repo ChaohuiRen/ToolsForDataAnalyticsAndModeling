{
 "cells": [
  {
   "cell_type": "markdown",
   "metadata": {},
   "source": [
    "# Generating Random Die Rolls\n",
    "\n",
    "A simple Notebook to demonstrate the use of Python in interactive and script modes. \n",
    "\n",
    "8/20/2019 - Jeff Smith"
   ]
  },
  {
   "cell_type": "code",
   "execution_count": 1,
   "metadata": {},
   "outputs": [],
   "source": [
    "import numpy as np"
   ]
  },
  {
   "cell_type": "code",
   "execution_count": 2,
   "metadata": {},
   "outputs": [
    {
     "data": {
      "text/plain": [
       "(3.506, 1.7083805196735298)"
      ]
     },
     "execution_count": 2,
     "metadata": {},
     "output_type": "execute_result"
    }
   ],
   "source": [
    "# Generate 10,000 random die rolls and compute the mean and std. dev.\n",
    "rolls = np.random.randint(1, 7, 10000)\n",
    "np.mean(rolls), np.std(rolls)"
   ]
  },
  {
   "cell_type": "code",
   "execution_count": 3,
   "metadata": {},
   "outputs": [
    {
     "data": {
      "text/plain": [
       "1695"
      ]
     },
     "execution_count": 3,
     "metadata": {},
     "output_type": "execute_result"
    }
   ],
   "source": [
    "# count the number of observations of j\n",
    "j = 2\n",
    "list(rolls).count(j)"
   ]
  },
  {
   "cell_type": "code",
   "execution_count": 4,
   "metadata": {},
   "outputs": [
    {
     "data": {
      "text/plain": [
       "[1639, 1695, 1676, 1635, 1667, 1688]"
      ]
     },
     "execution_count": 4,
     "metadata": {},
     "output_type": "execute_result"
    }
   ],
   "source": [
    "# Create and display a list of all count values\n",
    "[list(rolls).count(j) for j in range(1, 7)]"
   ]
  },
  {
   "cell_type": "code",
   "execution_count": 5,
   "metadata": {},
   "outputs": [
    {
     "data": {
      "text/plain": [
       "[0.1639, 0.1695, 0.1676, 0.1635, 0.1667, 0.1688]"
      ]
     },
     "execution_count": 5,
     "metadata": {},
     "output_type": "execute_result"
    }
   ],
   "source": [
    "# calculate the proportions\n",
    "[list(rolls).count(j)/10000 for j in range(1, 7)]"
   ]
  },
  {
   "cell_type": "code",
   "execution_count": 13,
   "metadata": {},
   "outputs": [
    {
     "name": "stdout",
     "output_type": "stream",
     "text": [
      "C:\\Users\\jsmith\\Documents\\GitHub\\ToolsForDataAnalyticsAndModeling\\notebooks\n"
     ]
    }
   ],
   "source": [
    "# What is the current working directory?\n",
    "import os\n",
    "print(os.getcwd())\n",
    "# the Python scripts are up one level then to code\\python"
   ]
  },
  {
   "cell_type": "code",
   "execution_count": 7,
   "metadata": {},
   "outputs": [
    {
     "name": "stdout",
     "output_type": "stream",
     "text": [
      "Mean: 3.505; Std. Dev.: 1.698\n",
      "[1631, 1664, 1699, 1681, 1680, 1645]\n",
      "[0.1631, 0.1664, 0.1699, 0.1681, 0.168, 0.1645]\n"
     ]
    }
   ],
   "source": [
    "# execute an external script\n",
    "%run \"..\\code\\python\\random_rolls.py\""
   ]
  },
  {
   "cell_type": "code",
   "execution_count": 9,
   "metadata": {},
   "outputs": [
    {
     "name": "stdout",
     "output_type": "stream",
     "text": [
      "Mean: 3.497; Std. Dev.: 1.709\n",
      "[1668, 1679, 1671, 1655, 1654, 1673]\n",
      "[0.1668, 0.1679, 0.1671, 0.1655, 0.1654, 0.1673]\n",
      " \n",
      "Mean: 3.494; Std. Dev.: 1.711\n",
      "[1694, 1631, 1713, 1644, 1640, 1678]\n",
      "[0.1694, 0.1631, 0.1713, 0.1644, 0.164, 0.1678]\n",
      " \n",
      "Mean: 3.499; Std. Dev.: 1.709\n",
      "[1680, 1641, 1687, 1662, 1661, 1669]\n",
      "[0.168, 0.1641, 0.1687, 0.1662, 0.1661, 0.1669]\n",
      " \n",
      "Mean: 3.503; Std. Dev.: 1.714\n",
      "[1690, 1677, 1562, 1723, 1678, 1670]\n",
      "[0.169, 0.1677, 0.1562, 0.1723, 0.1678, 0.167]\n",
      " \n",
      "Mean: 3.467; Std. Dev.: 1.702\n",
      "[1717, 1657, 1714, 1652, 1672, 1588]\n",
      "[0.1717, 0.1657, 0.1714, 0.1652, 0.1672, 0.1588]\n",
      " \n"
     ]
    }
   ],
   "source": [
    "for j in range(5):\n",
    "    %run \"..\\code\\python\\random_rolls.py\"\n",
    "    print(\" \")"
   ]
  },
  {
   "cell_type": "code",
   "execution_count": 10,
   "metadata": {},
   "outputs": [
    {
     "name": "stdout",
     "output_type": "stream",
     "text": [
      "Simulating 5,000 die rolls\n",
      "Mean: 3.478; Std. Dev.: 1.698\n",
      "[834, 864, 818, 825, 879, 780]\n",
      "[0.1668, 0.1728, 0.1636, 0.165, 0.1758, 0.156]\n"
     ]
    }
   ],
   "source": [
    "#\n",
    "# Code from random_rolls.py\n",
    "#\n",
    "import numpy as np\n",
    "\n",
    "reps = 5000\n",
    "rolls = np.random.randint(1, 7, reps)\n",
    "print(\"Simulating {:,d} die rolls\".format(reps))\n",
    "print(\"Mean: {:.3f}; Std. Dev.: {:.3f}\".format(np.mean(rolls), np.std(rolls)))\n",
    "print([list(rolls).count(j) for j in range(1, 7)])\n",
    "print([list(rolls).count(j)/reps for j in range(1, 7)])\n"
   ]
  },
  {
   "cell_type": "code",
   "execution_count": null,
   "metadata": {},
   "outputs": [],
   "source": []
  }
 ],
 "metadata": {
  "kernelspec": {
   "display_name": "Python 3",
   "language": "python",
   "name": "python3"
  },
  "language_info": {
   "codemirror_mode": {
    "name": "ipython",
    "version": 3
   },
   "file_extension": ".py",
   "mimetype": "text/x-python",
   "name": "python",
   "nbconvert_exporter": "python",
   "pygments_lexer": "ipython3",
   "version": "3.8.3"
  }
 },
 "nbformat": 4,
 "nbformat_minor": 2
}
